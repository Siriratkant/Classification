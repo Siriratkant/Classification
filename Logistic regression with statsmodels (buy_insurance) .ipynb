{
 "cells": [
  {
   "cell_type": "markdown",
   "metadata": {},
   "source": [
    "# Logistic regression with statsmodels (binary)"
   ]
  },
  {
   "cell_type": "markdown",
   "metadata": {},
   "source": [
    "ต่อมาเราจะมาสอนการเขียน code ที่ใช้ประมาณการข้อมูลโดยใช้ logistic regression ซึ่งหัวข้อที่เราจะกล่าวถึงมีดังต่อไปนี้\n",
    "* 1.การดึงและตรวจสอบข้อมูล\n",
    "* 2.การประมาณการข้อมูลโดยใช้ statsmodels\n",
    "* 3.การตรวจสอบความแม่นยำของ model ด้วย confusion matix"
   ]
  },
  {
   "cell_type": "markdown",
   "metadata": {},
   "source": [
    "## 1.การดึงและตรวจสอบข้อมูล"
   ]
  },
  {
   "cell_type": "code",
   "execution_count": 1,
   "metadata": {},
   "outputs": [],
   "source": [
    "import pandas as pd\n",
    "import numpy as np\n",
    "import matplotlib.pyplot as plt\n",
    "import seaborn as sns\n",
    "%matplotlib inline"
   ]
  },
  {
   "cell_type": "markdown",
   "metadata": {},
   "source": [
    "* **เรียก library** พื้นฐานในการอ่านข้อมูล หากต้องการทราบการทำงานของแต่ละ library เข้าไปดูได้ที่ : https://ilog.ai/jupyter-notebook-for-data-science/"
   ]
  },
  {
   "cell_type": "code",
   "execution_count": 2,
   "metadata": {},
   "outputs": [],
   "source": [
    "data = pd.read_csv ('C:\\\\Users\\\\LENOVO\\\\Desktop\\\\files for example\\\\buy_insurance.csv')"
   ]
  },
  {
   "cell_type": "markdown",
   "metadata": {},
   "source": [
    "* **สร้าง object** ขึ้นมาตั้งชื่อว่าอะไรก็ได้ ในที่นี้เราให้ชื่อว่า data แล้วก็ใส่คำสั่ง pd.read.csv() เป็นคำสั่งอ่านไฟล์ แล้วก็ใส่ที่อยู่ของไฟล์ลงไปในวงเล็บ"
   ]
  },
  {
   "cell_type": "code",
   "execution_count": 3,
   "metadata": {},
   "outputs": [
    {
     "data": {
      "text/html": [
       "<div>\n",
       "<style scoped>\n",
       "    .dataframe tbody tr th:only-of-type {\n",
       "        vertical-align: middle;\n",
       "    }\n",
       "\n",
       "    .dataframe tbody tr th {\n",
       "        vertical-align: top;\n",
       "    }\n",
       "\n",
       "    .dataframe thead th {\n",
       "        text-align: right;\n",
       "    }\n",
       "</style>\n",
       "<table border=\"1\" class=\"dataframe\">\n",
       "  <thead>\n",
       "    <tr style=\"text-align: right;\">\n",
       "      <th></th>\n",
       "      <th>0</th>\n",
       "      <th>1</th>\n",
       "      <th>2</th>\n",
       "      <th>3</th>\n",
       "      <th>4</th>\n",
       "      <th>5</th>\n",
       "      <th>6</th>\n",
       "      <th>7</th>\n",
       "      <th>8</th>\n",
       "      <th>9</th>\n",
       "      <th>...</th>\n",
       "      <th>17</th>\n",
       "      <th>18</th>\n",
       "      <th>19</th>\n",
       "      <th>20</th>\n",
       "      <th>21</th>\n",
       "      <th>22</th>\n",
       "      <th>23</th>\n",
       "      <th>24</th>\n",
       "      <th>25</th>\n",
       "      <th>26</th>\n",
       "    </tr>\n",
       "  </thead>\n",
       "  <tbody>\n",
       "    <tr>\n",
       "      <th>age</th>\n",
       "      <td>22</td>\n",
       "      <td>25</td>\n",
       "      <td>47</td>\n",
       "      <td>52</td>\n",
       "      <td>46</td>\n",
       "      <td>56</td>\n",
       "      <td>55</td>\n",
       "      <td>60</td>\n",
       "      <td>62</td>\n",
       "      <td>61</td>\n",
       "      <td>...</td>\n",
       "      <td>58</td>\n",
       "      <td>19</td>\n",
       "      <td>18</td>\n",
       "      <td>21</td>\n",
       "      <td>26</td>\n",
       "      <td>40</td>\n",
       "      <td>45</td>\n",
       "      <td>50</td>\n",
       "      <td>54</td>\n",
       "      <td>23</td>\n",
       "    </tr>\n",
       "    <tr>\n",
       "      <th>buy_insurance</th>\n",
       "      <td>0</td>\n",
       "      <td>0</td>\n",
       "      <td>1</td>\n",
       "      <td>0</td>\n",
       "      <td>1</td>\n",
       "      <td>1</td>\n",
       "      <td>0</td>\n",
       "      <td>1</td>\n",
       "      <td>1</td>\n",
       "      <td>1</td>\n",
       "      <td>...</td>\n",
       "      <td>1</td>\n",
       "      <td>0</td>\n",
       "      <td>0</td>\n",
       "      <td>0</td>\n",
       "      <td>0</td>\n",
       "      <td>1</td>\n",
       "      <td>1</td>\n",
       "      <td>1</td>\n",
       "      <td>1</td>\n",
       "      <td>0</td>\n",
       "    </tr>\n",
       "  </tbody>\n",
       "</table>\n",
       "<p>2 rows × 27 columns</p>\n",
       "</div>"
      ],
      "text/plain": [
       "               0   1   2   3   4   5   6   7   8   9   ...  17  18  19  20  \\\n",
       "age            22  25  47  52  46  56  55  60  62  61  ...  58  19  18  21   \n",
       "buy_insurance   0   0   1   0   1   1   0   1   1   1  ...   1   0   0   0   \n",
       "\n",
       "               21  22  23  24  25  26  \n",
       "age            26  40  45  50  54  23  \n",
       "buy_insurance   0   1   1   1   1   0  \n",
       "\n",
       "[2 rows x 27 columns]"
      ]
     },
     "execution_count": 3,
     "metadata": {},
     "output_type": "execute_result"
    }
   ],
   "source": [
    "data.T"
   ]
  },
  {
   "cell_type": "markdown",
   "metadata": {},
   "source": [
    "* **data.T** คือสำสั่งให้แสดงข้อมูลของเราในรูป dataframe แบบ transpose"
   ]
  },
  {
   "cell_type": "code",
   "execution_count": 4,
   "metadata": {},
   "outputs": [
    {
     "data": {
      "text/plain": [
       "<matplotlib.axes._subplots.AxesSubplot at 0x1eb222daa90>"
      ]
     },
     "execution_count": 4,
     "metadata": {},
     "output_type": "execute_result"
    },
    {
     "data": {
      "image/png": "[encoded data removed]",
      "text/plain": [
       "<Figure size 432x288 with 1 Axes>"
      ]
     },
     "metadata": {
      "needs_background": "light"
     },
     "output_type": "display_data"
    }
   ],
   "source": [
    "sns.scatterplot(data=data, x='age', y='buy_insurance')"
   ]
  },
  {
   "cell_type": "markdown",
   "metadata": {},
   "source": [
    "* **sns.scatterplot** เป็นคำสั่งในการพล็อตการกระจายตัวของข้อมูล ดูรายละเอียดการใส่คำสั่งในวงเล็บได้ที่ : https://seaborn.pydata.org/generated/seaborn.scatterplot.html"
   ]
  },
  {
   "cell_type": "code",
   "execution_count": 5,
   "metadata": {},
   "outputs": [
    {
     "name": "stdout",
     "output_type": "stream",
     "text": [
      "<class 'pandas.core.frame.DataFrame'>\n",
      "RangeIndex: 27 entries, 0 to 26\n",
      "Data columns (total 2 columns):\n",
      "age              27 non-null int64\n",
      "buy_insurance    27 non-null int64\n",
      "dtypes: int64(2)\n",
      "memory usage: 512.0 bytes\n"
     ]
    }
   ],
   "source": [
    "data.info()"
   ]
  },
  {
   "cell_type": "markdown",
   "metadata": {},
   "source": [
    "* **data.info()** เป็นเรียกดู characters ของข้อมูลเรา และเช็คได้ว่ามี missing value หรือไม่"
   ]
  },
  {
   "cell_type": "markdown",
   "metadata": {},
   "source": [
    "## 2.การประมาณการข้อมูลโดยใช้ statsmodels"
   ]
  },
  {
   "cell_type": "code",
   "execution_count": 6,
   "metadata": {},
   "outputs": [],
   "source": [
    "from patsy import dmatrices\n",
    "import statsmodels.api as sm"
   ]
  },
  {
   "cell_type": "markdown",
   "metadata": {},
   "source": [
    "* **from patsy import dmatrices** เรียก library patsy และ import dmatrices เพื่อที่เราจะสร้างตาราง matrices ให้กับข้อมูลของเรา รายละเอียดเพิ่มเติม : https://patsy.readthedocs.io/en/latest/API-reference.html\n",
    "* **import statsmodels.api as sm** เรียกใช้ statsmodels โดยเรากำหนดตัวย่อให้มันว่า sm"
   ]
  },
  {
   "cell_type": "code",
   "execution_count": 7,
   "metadata": {},
   "outputs": [],
   "source": [
    "y, X = dmatrices('buy_insurance ~ age', data=data, return_type = 'dataframe')"
   ]
  },
  {
   "cell_type": "markdown",
   "metadata": {},
   "source": [
    "* **สร้าง objective 2 อัน** คือ y กับ X และใส่คำสั่งให้มันจัดข้อมูลของเรา(data)ให้อยู่ในรูปของ matrix เพื่อให้มันคำนวณหลังบ้านได้ และให้มันแสดงผลข้อมูลของเราในรูปของ dataframe"
   ]
  },
  {
   "cell_type": "code",
   "execution_count": 8,
   "metadata": {},
   "outputs": [
    {
     "data": {
      "text/html": [
       "<div>\n",
       "<style scoped>\n",
       "    .dataframe tbody tr th:only-of-type {\n",
       "        vertical-align: middle;\n",
       "    }\n",
       "\n",
       "    .dataframe tbody tr th {\n",
       "        vertical-align: top;\n",
       "    }\n",
       "\n",
       "    .dataframe thead th {\n",
       "        text-align: right;\n",
       "    }\n",
       "</style>\n",
       "<table border=\"1\" class=\"dataframe\">\n",
       "  <thead>\n",
       "    <tr style=\"text-align: right;\">\n",
       "      <th></th>\n",
       "      <th>Intercept</th>\n",
       "      <th>age</th>\n",
       "    </tr>\n",
       "  </thead>\n",
       "  <tbody>\n",
       "    <tr>\n",
       "      <th>0</th>\n",
       "      <td>1.0</td>\n",
       "      <td>22.0</td>\n",
       "    </tr>\n",
       "    <tr>\n",
       "      <th>1</th>\n",
       "      <td>1.0</td>\n",
       "      <td>25.0</td>\n",
       "    </tr>\n",
       "    <tr>\n",
       "      <th>2</th>\n",
       "      <td>1.0</td>\n",
       "      <td>47.0</td>\n",
       "    </tr>\n",
       "    <tr>\n",
       "      <th>3</th>\n",
       "      <td>1.0</td>\n",
       "      <td>52.0</td>\n",
       "    </tr>\n",
       "    <tr>\n",
       "      <th>4</th>\n",
       "      <td>1.0</td>\n",
       "      <td>46.0</td>\n",
       "    </tr>\n",
       "  </tbody>\n",
       "</table>\n",
       "</div>"
      ],
      "text/plain": [
       "   Intercept   age\n",
       "0        1.0  22.0\n",
       "1        1.0  25.0\n",
       "2        1.0  47.0\n",
       "3        1.0  52.0\n",
       "4        1.0  46.0"
      ]
     },
     "execution_count": 8,
     "metadata": {},
     "output_type": "execute_result"
    }
   ],
   "source": [
    "X.head()"
   ]
  },
  {
   "cell_type": "code",
   "execution_count": 9,
   "metadata": {},
   "outputs": [
    {
     "data": {
      "text/html": [
       "<div>\n",
       "<style scoped>\n",
       "    .dataframe tbody tr th:only-of-type {\n",
       "        vertical-align: middle;\n",
       "    }\n",
       "\n",
       "    .dataframe tbody tr th {\n",
       "        vertical-align: top;\n",
       "    }\n",
       "\n",
       "    .dataframe thead th {\n",
       "        text-align: right;\n",
       "    }\n",
       "</style>\n",
       "<table border=\"1\" class=\"dataframe\">\n",
       "  <thead>\n",
       "    <tr style=\"text-align: right;\">\n",
       "      <th></th>\n",
       "      <th>buy_insurance</th>\n",
       "    </tr>\n",
       "  </thead>\n",
       "  <tbody>\n",
       "    <tr>\n",
       "      <th>0</th>\n",
       "      <td>0.0</td>\n",
       "    </tr>\n",
       "    <tr>\n",
       "      <th>1</th>\n",
       "      <td>0.0</td>\n",
       "    </tr>\n",
       "    <tr>\n",
       "      <th>2</th>\n",
       "      <td>1.0</td>\n",
       "    </tr>\n",
       "    <tr>\n",
       "      <th>3</th>\n",
       "      <td>0.0</td>\n",
       "    </tr>\n",
       "    <tr>\n",
       "      <th>4</th>\n",
       "      <td>1.0</td>\n",
       "    </tr>\n",
       "  </tbody>\n",
       "</table>\n",
       "</div>"
      ],
      "text/plain": [
       "   buy_insurance\n",
       "0            0.0\n",
       "1            0.0\n",
       "2            1.0\n",
       "3            0.0\n",
       "4            1.0"
      ]
     },
     "execution_count": 9,
     "metadata": {},
     "output_type": "execute_result"
    }
   ],
   "source": [
    "y.head()"
   ]
  },
  {
   "cell_type": "markdown",
   "metadata": {},
   "source": [
    "* **X.head() , y.head()** เป็นคำสั่งขอดูข้อมูลแค่ 5 แถวแรก"
   ]
  },
  {
   "cell_type": "code",
   "execution_count": 10,
   "metadata": {},
   "outputs": [
    {
     "name": "stdout",
     "output_type": "stream",
     "text": [
      "Optimization terminated successfully.\n",
      "         Current function value: 0.377894\n",
      "         Iterations 6\n"
     ]
    },
    {
     "data": {
      "text/html": [
       "<table class=\"simpletable\">\n",
       "<caption>Logit Regression Results</caption>\n",
       "<tr>\n",
       "  <th>Dep. Variable:</th>   <td>buy_insurance</td>  <th>  No. Observations:  </th>  <td>    27</td>  \n",
       "</tr>\n",
       "<tr>\n",
       "  <th>Model:</th>               <td>Logit</td>      <th>  Df Residuals:      </th>  <td>    25</td>  \n",
       "</tr>\n",
       "<tr>\n",
       "  <th>Method:</th>               <td>MLE</td>       <th>  Df Model:          </th>  <td>     1</td>  \n",
       "</tr>\n",
       "<tr>\n",
       "  <th>Date:</th>          <td>Tue, 25 Feb 2020</td> <th>  Pseudo R-squ.:     </th>  <td>0.4543</td>  \n",
       "</tr>\n",
       "<tr>\n",
       "  <th>Time:</th>              <td>16:36:46</td>     <th>  Log-Likelihood:    </th> <td> -10.203</td> \n",
       "</tr>\n",
       "<tr>\n",
       "  <th>converged:</th>           <td>True</td>       <th>  LL-Null:           </th> <td> -18.696</td> \n",
       "</tr>\n",
       "<tr>\n",
       "  <th> </th>                      <td> </td>        <th>  LLR p-value:       </th> <td>3.764e-05</td>\n",
       "</tr>\n",
       "</table>\n",
       "<table class=\"simpletable\">\n",
       "<tr>\n",
       "      <td></td>         <th>coef</th>     <th>std err</th>      <th>z</th>      <th>P>|z|</th>  <th>[0.025</th>    <th>0.975]</th>  \n",
       "</tr>\n",
       "<tr>\n",
       "  <th>Intercept</th> <td>   -5.2729</td> <td>    1.814</td> <td>   -2.907</td> <td> 0.004</td> <td>   -8.828</td> <td>   -1.718</td>\n",
       "</tr>\n",
       "<tr>\n",
       "  <th>age</th>       <td>    0.1357</td> <td>    0.044</td> <td>    3.118</td> <td> 0.002</td> <td>    0.050</td> <td>    0.221</td>\n",
       "</tr>\n",
       "</table>"
      ],
      "text/plain": [
       "<class 'statsmodels.iolib.summary.Summary'>\n",
       "\"\"\"\n",
       "                           Logit Regression Results                           \n",
       "==============================================================================\n",
       "Dep. Variable:          buy_insurance   No. Observations:                   27\n",
       "Model:                          Logit   Df Residuals:                       25\n",
       "Method:                           MLE   Df Model:                            1\n",
       "Date:                Tue, 25 Feb 2020   Pseudo R-squ.:                  0.4543\n",
       "Time:                        16:36:46   Log-Likelihood:                -10.203\n",
       "converged:                       True   LL-Null:                       -18.696\n",
       "                                        LLR p-value:                 3.764e-05\n",
       "==============================================================================\n",
       "                 coef    std err          z      P>|z|      [0.025      0.975]\n",
       "------------------------------------------------------------------------------\n",
       "Intercept     -5.2729      1.814     -2.907      0.004      -8.828      -1.718\n",
       "age            0.1357      0.044      3.118      0.002       0.050       0.221\n",
       "==============================================================================\n",
       "\"\"\""
      ]
     },
     "execution_count": 10,
     "metadata": {},
     "output_type": "execute_result"
    }
   ],
   "source": [
    "model = sm.Logit(y, X).fit()\n",
    "model.summary()"
   ]
  },
  {
   "cell_type": "markdown",
   "metadata": {},
   "source": [
    " **อธิบายตาราง  Logistic Regression Result**    \n"
   ]
  },
  {
   "cell_type": "markdown",
   "metadata": {},
   "source": [
    "* **ทำการประมาณการ** \n",
    "เริ่มจากสร้าง object ว่า model จากนั้นใส่ code สั่งให้มันคำนวณนั่นคือ sm.Logit(y, X).fit() จากนั้นสามารถเรียกดูผลของการประมาณการโดยใช้คำสั่ง model.summary() ซึ่งจะแสดงอยู่ในรูปของ Logistic Regression Result\n",
    "\n",
    "* **Pseudo R-squ.** (Pseudo R- squared) ทำหน้าที่คล้ายๆ R-squared เหมือนการประมาณการแบบ linear regression โดยมันคือตัวบอก goodnest of fit คือค่าที่บอกว่า model นี้ ใช้อธิบายความสัมพันธ์ระหว่างตัวแปร x และตัวแปรตาม(y)ได้มากน้อยแค่ไหน ซึ่งมีค่าอยู่ระหว่าง 0<R<1 ถ้าใกล้ 0 คือดี ในที่นี้เราได้ 0.45 ถือว่ากลางๆ   \n",
    "\n",
    "* **LLR p-value** ทำหน้าที่คล้ายกับ F-test p-value คือ หากผลออกมาว่า significant แสดงว่า **มี x อย่างน้อย 1 ตัวที่มีความสัมพันธ์กับ Y** ค่า Prob จะดูว่า significant หรือไม่ ดูได้จาก ถ้า Prob < ระดับนัยสำคัญ = significant ซึ่งในที่นี้ 0.000 < 0.05) ซึ่งในที่นี้ค่า LLR p-value มีค่าน้อยมากๆๆ ดังนั้นจึง significant ทุกระดับนัยสำคัญ   \n",
    "\n",
    "* **z, P>l z l ,confident interval [0.025  0.975]** ซึ่งค่าทั้ง 3 นั้นจะสอดคล้องกัน โดยมันเป็นค่าที่ใช้บอกว่า ตัวแปรอิสระนั้นๆ มีความสัมพันธ์กับ Y หรือไม่(ดูเจาะลึกลงไปทีละตัวแปรเลย)ซึ่งในที่นี้เรามีการกำหนดระดับนัยสำคัญไว้ที่ 0.05 นั่นคือ หากค่าของตัวแปรใดในช่อง **P-value มีค่ามากกว่า 0.05 แสดงว่าตัวแปรนั้นไม่มีความสัมพันธ์กับตัวแปร Y อย่างมีนัยสำคัญทางสถิติ** ซึ่งเมื่อดูแล้วจะเห็นได้ว่า coefficient ของ age นั้นมีค่า p-value ที่น้อยกว่าะดับนัยสำคัญ แสดงว่า age(X) มีความสัมพันธ์กับการซื้อประกัน(y) อย่างมีนัยสำคัญ"
   ]
  },
  {
   "cell_type": "code",
   "execution_count": 11,
   "metadata": {
    "scrolled": true
   },
   "outputs": [
    {
     "data": {
      "text/plain": [
       "Intercept   -5.272931\n",
       "age          0.135722\n",
       "dtype: float64"
      ]
     },
     "execution_count": 11,
     "metadata": {},
     "output_type": "execute_result"
    }
   ],
   "source": [
    "model.params"
   ]
  },
  {
   "cell_type": "markdown",
   "metadata": {},
   "source": [
    "* เราสามารถใช้คำสั่ง .params เพื่อดึงเฉพาะข้อมูลที่เป็น parameters ออกมาได้"
   ]
  },
  {
   "cell_type": "code",
   "execution_count": 12,
   "metadata": {},
   "outputs": [
    {
     "data": {
      "text/plain": [
       "0     0.092201\n",
       "1     0.132402\n",
       "2     0.751382\n",
       "3     0.856264\n",
       "4     0.725174\n",
       "5     0.911128\n",
       "6     0.899508\n",
       "7     0.946363\n",
       "8     0.958585\n",
       "9     0.952849\n",
       "10    0.055728\n",
       "11    0.186529\n",
       "12    0.166805\n",
       "13    0.208004\n",
       "14    0.798579\n",
       "15    0.899508\n",
       "16    0.132402\n",
       "17    0.930793\n",
       "18    0.063315\n",
       "19    0.055728\n",
       "20    0.081453\n",
       "21    0.148785\n",
       "22    0.538907\n",
       "23    0.697316\n",
       "24    0.819529\n",
       "25    0.886557\n",
       "26    0.104207\n",
       "dtype: float64"
      ]
     },
     "execution_count": 12,
     "metadata": {},
     "output_type": "execute_result"
    }
   ],
   "source": [
    "model.predict(X)"
   ]
  },
  {
   "cell_type": "markdown",
   "metadata": {},
   "source": [
    "* ต่อมาเมื่อเราประมาณการตัว coefficient และ intercept มาแล้ว เราจะนำมันมาประมาณการข้อมูลของเรา ว่าคนในช่วงอายุต่างๆมีโอกาสที่จะซื้อประกันเท่าไร เราสามารถใช้คำสั่งด้านบนได้เลย ซึ่งค่าที่ออกมาอยู่ในรูปของ probability ถ้าค่ามากกว่าหรือเท่ากับ 0.05 แสดงว่า y = 1 หมายความว่าคนั้นเขาจะซื้อประกัน"
   ]
  },
  {
   "cell_type": "code",
   "execution_count": 13,
   "metadata": {},
   "outputs": [
    {
     "data": {
      "text/plain": [
       "0     0\n",
       "1     0\n",
       "2     1\n",
       "3     1\n",
       "4     1\n",
       "5     1\n",
       "6     1\n",
       "7     1\n",
       "8     1\n",
       "9     1\n",
       "10    0\n",
       "11    0\n",
       "12    0\n",
       "13    0\n",
       "14    1\n",
       "15    1\n",
       "16    0\n",
       "17    1\n",
       "18    0\n",
       "19    0\n",
       "20    0\n",
       "21    0\n",
       "22    1\n",
       "23    1\n",
       "24    1\n",
       "25    1\n",
       "26    0\n",
       "dtype: int64"
      ]
     },
     "execution_count": 13,
     "metadata": {},
     "output_type": "execute_result"
    }
   ],
   "source": [
    "model.predict(X).apply(lambda p: 0 if p < .5 else 1)"
   ]
  },
  {
   "cell_type": "markdown",
   "metadata": {},
   "source": [
    "* ต่อมาเราสามารถใช้อีกคำสั่งเพื่อให้มันแสดงออกมาเลยว่า ซื้อหรือไม่ซื้อประกัน เราสามารถเขียนสูตร(lambda p)ตามด้านล่าง คือถ้า(if) probability น้อยกว่า 0.5 ให้แสดงผล 0 และถ้ามาากว่า 0.5 ให้แสดง 1 คำสั่งที่เราใช้คือ if else\n"
   ]
  },
  {
   "cell_type": "code",
   "execution_count": 14,
   "metadata": {
    "scrolled": true
   },
   "outputs": [
    {
     "data": {
      "text/plain": [
       "array([0.5050547])"
      ]
     },
     "execution_count": 14,
     "metadata": {},
     "output_type": "execute_result"
    }
   ],
   "source": [
    "model.predict([[1, 39]])"
   ]
  },
  {
   "cell_type": "markdown",
   "metadata": {},
   "source": [
    "* หากเราต้องการที่จะลอง predict เอง เราสามารถใส่ตัวเลขลงไปใน[[intercept,ค่าของ x1]] จากตัวอย่าง คนที่อายุ 39 จะมีโอกาสซื้อประกัน(buy_insurance)เท่ากับ 0.5050547 ซึ่งเกิน 0.5 แสดงว่า y=1    \n",
    "**เพิ่มเติม** : intercept ที่เราให้เลข 1 เพราะว่า เรากำหนดให้ X[o] = 1 "
   ]
  },
  {
   "cell_type": "markdown",
   "metadata": {},
   "source": [
    "#### เปรียบเทียบ Yจริง และ Yp"
   ]
  },
  {
   "cell_type": "code",
   "execution_count": 15,
   "metadata": {
    "scrolled": false
   },
   "outputs": [
    {
     "data": {
      "text/html": [
       "<div>\n",
       "<style scoped>\n",
       "    .dataframe tbody tr th:only-of-type {\n",
       "        vertical-align: middle;\n",
       "    }\n",
       "\n",
       "    .dataframe tbody tr th {\n",
       "        vertical-align: top;\n",
       "    }\n",
       "\n",
       "    .dataframe thead th {\n",
       "        text-align: right;\n",
       "    }\n",
       "</style>\n",
       "<table border=\"1\" class=\"dataframe\">\n",
       "  <thead>\n",
       "    <tr style=\"text-align: right;\">\n",
       "      <th></th>\n",
       "      <th>age</th>\n",
       "      <th>buy_insurance</th>\n",
       "    </tr>\n",
       "  </thead>\n",
       "  <tbody>\n",
       "    <tr>\n",
       "      <th>0</th>\n",
       "      <td>22</td>\n",
       "      <td>0</td>\n",
       "    </tr>\n",
       "    <tr>\n",
       "      <th>1</th>\n",
       "      <td>25</td>\n",
       "      <td>0</td>\n",
       "    </tr>\n",
       "    <tr>\n",
       "      <th>2</th>\n",
       "      <td>47</td>\n",
       "      <td>1</td>\n",
       "    </tr>\n",
       "    <tr>\n",
       "      <th>3</th>\n",
       "      <td>52</td>\n",
       "      <td>0</td>\n",
       "    </tr>\n",
       "    <tr>\n",
       "      <th>4</th>\n",
       "      <td>46</td>\n",
       "      <td>1</td>\n",
       "    </tr>\n",
       "    <tr>\n",
       "      <th>5</th>\n",
       "      <td>56</td>\n",
       "      <td>1</td>\n",
       "    </tr>\n",
       "    <tr>\n",
       "      <th>6</th>\n",
       "      <td>55</td>\n",
       "      <td>0</td>\n",
       "    </tr>\n",
       "    <tr>\n",
       "      <th>7</th>\n",
       "      <td>60</td>\n",
       "      <td>1</td>\n",
       "    </tr>\n",
       "    <tr>\n",
       "      <th>8</th>\n",
       "      <td>62</td>\n",
       "      <td>1</td>\n",
       "    </tr>\n",
       "    <tr>\n",
       "      <th>9</th>\n",
       "      <td>61</td>\n",
       "      <td>1</td>\n",
       "    </tr>\n",
       "    <tr>\n",
       "      <th>10</th>\n",
       "      <td>18</td>\n",
       "      <td>0</td>\n",
       "    </tr>\n",
       "    <tr>\n",
       "      <th>11</th>\n",
       "      <td>28</td>\n",
       "      <td>0</td>\n",
       "    </tr>\n",
       "    <tr>\n",
       "      <th>12</th>\n",
       "      <td>27</td>\n",
       "      <td>0</td>\n",
       "    </tr>\n",
       "    <tr>\n",
       "      <th>13</th>\n",
       "      <td>29</td>\n",
       "      <td>0</td>\n",
       "    </tr>\n",
       "    <tr>\n",
       "      <th>14</th>\n",
       "      <td>49</td>\n",
       "      <td>1</td>\n",
       "    </tr>\n",
       "    <tr>\n",
       "      <th>15</th>\n",
       "      <td>55</td>\n",
       "      <td>1</td>\n",
       "    </tr>\n",
       "    <tr>\n",
       "      <th>16</th>\n",
       "      <td>25</td>\n",
       "      <td>1</td>\n",
       "    </tr>\n",
       "    <tr>\n",
       "      <th>17</th>\n",
       "      <td>58</td>\n",
       "      <td>1</td>\n",
       "    </tr>\n",
       "    <tr>\n",
       "      <th>18</th>\n",
       "      <td>19</td>\n",
       "      <td>0</td>\n",
       "    </tr>\n",
       "    <tr>\n",
       "      <th>19</th>\n",
       "      <td>18</td>\n",
       "      <td>0</td>\n",
       "    </tr>\n",
       "    <tr>\n",
       "      <th>20</th>\n",
       "      <td>21</td>\n",
       "      <td>0</td>\n",
       "    </tr>\n",
       "    <tr>\n",
       "      <th>21</th>\n",
       "      <td>26</td>\n",
       "      <td>0</td>\n",
       "    </tr>\n",
       "    <tr>\n",
       "      <th>22</th>\n",
       "      <td>40</td>\n",
       "      <td>1</td>\n",
       "    </tr>\n",
       "    <tr>\n",
       "      <th>23</th>\n",
       "      <td>45</td>\n",
       "      <td>1</td>\n",
       "    </tr>\n",
       "    <tr>\n",
       "      <th>24</th>\n",
       "      <td>50</td>\n",
       "      <td>1</td>\n",
       "    </tr>\n",
       "    <tr>\n",
       "      <th>25</th>\n",
       "      <td>54</td>\n",
       "      <td>1</td>\n",
       "    </tr>\n",
       "    <tr>\n",
       "      <th>26</th>\n",
       "      <td>23</td>\n",
       "      <td>0</td>\n",
       "    </tr>\n",
       "  </tbody>\n",
       "</table>\n",
       "</div>"
      ],
      "text/plain": [
       "    age  buy_insurance\n",
       "0    22              0\n",
       "1    25              0\n",
       "2    47              1\n",
       "3    52              0\n",
       "4    46              1\n",
       "5    56              1\n",
       "6    55              0\n",
       "7    60              1\n",
       "8    62              1\n",
       "9    61              1\n",
       "10   18              0\n",
       "11   28              0\n",
       "12   27              0\n",
       "13   29              0\n",
       "14   49              1\n",
       "15   55              1\n",
       "16   25              1\n",
       "17   58              1\n",
       "18   19              0\n",
       "19   18              0\n",
       "20   21              0\n",
       "21   26              0\n",
       "22   40              1\n",
       "23   45              1\n",
       "24   50              1\n",
       "25   54              1\n",
       "26   23              0"
      ]
     },
     "execution_count": 15,
     "metadata": {},
     "output_type": "execute_result"
    }
   ],
   "source": [
    "data"
   ]
  },
  {
   "cell_type": "code",
   "execution_count": 16,
   "metadata": {
    "scrolled": false
   },
   "outputs": [
    {
     "data": {
      "text/html": [
       "<div>\n",
       "<style scoped>\n",
       "    .dataframe tbody tr th:only-of-type {\n",
       "        vertical-align: middle;\n",
       "    }\n",
       "\n",
       "    .dataframe tbody tr th {\n",
       "        vertical-align: top;\n",
       "    }\n",
       "\n",
       "    .dataframe thead th {\n",
       "        text-align: right;\n",
       "    }\n",
       "</style>\n",
       "<table border=\"1\" class=\"dataframe\">\n",
       "  <thead>\n",
       "    <tr style=\"text-align: right;\">\n",
       "      <th></th>\n",
       "      <th>age</th>\n",
       "      <th>buy_insurance</th>\n",
       "      <th>Yp</th>\n",
       "      <th>prob</th>\n",
       "    </tr>\n",
       "  </thead>\n",
       "  <tbody>\n",
       "    <tr>\n",
       "      <th>0</th>\n",
       "      <td>22</td>\n",
       "      <td>0</td>\n",
       "      <td>0</td>\n",
       "      <td>0.092201</td>\n",
       "    </tr>\n",
       "    <tr>\n",
       "      <th>1</th>\n",
       "      <td>25</td>\n",
       "      <td>0</td>\n",
       "      <td>0</td>\n",
       "      <td>0.132402</td>\n",
       "    </tr>\n",
       "    <tr>\n",
       "      <th>2</th>\n",
       "      <td>47</td>\n",
       "      <td>1</td>\n",
       "      <td>1</td>\n",
       "      <td>0.751382</td>\n",
       "    </tr>\n",
       "    <tr>\n",
       "      <th>3</th>\n",
       "      <td>52</td>\n",
       "      <td>0</td>\n",
       "      <td>1</td>\n",
       "      <td>0.856264</td>\n",
       "    </tr>\n",
       "    <tr>\n",
       "      <th>4</th>\n",
       "      <td>46</td>\n",
       "      <td>1</td>\n",
       "      <td>1</td>\n",
       "      <td>0.725174</td>\n",
       "    </tr>\n",
       "    <tr>\n",
       "      <th>5</th>\n",
       "      <td>56</td>\n",
       "      <td>1</td>\n",
       "      <td>1</td>\n",
       "      <td>0.911128</td>\n",
       "    </tr>\n",
       "    <tr>\n",
       "      <th>6</th>\n",
       "      <td>55</td>\n",
       "      <td>0</td>\n",
       "      <td>1</td>\n",
       "      <td>0.899508</td>\n",
       "    </tr>\n",
       "    <tr>\n",
       "      <th>7</th>\n",
       "      <td>60</td>\n",
       "      <td>1</td>\n",
       "      <td>1</td>\n",
       "      <td>0.946363</td>\n",
       "    </tr>\n",
       "    <tr>\n",
       "      <th>8</th>\n",
       "      <td>62</td>\n",
       "      <td>1</td>\n",
       "      <td>1</td>\n",
       "      <td>0.958585</td>\n",
       "    </tr>\n",
       "    <tr>\n",
       "      <th>9</th>\n",
       "      <td>61</td>\n",
       "      <td>1</td>\n",
       "      <td>1</td>\n",
       "      <td>0.952849</td>\n",
       "    </tr>\n",
       "    <tr>\n",
       "      <th>10</th>\n",
       "      <td>18</td>\n",
       "      <td>0</td>\n",
       "      <td>0</td>\n",
       "      <td>0.055728</td>\n",
       "    </tr>\n",
       "    <tr>\n",
       "      <th>11</th>\n",
       "      <td>28</td>\n",
       "      <td>0</td>\n",
       "      <td>0</td>\n",
       "      <td>0.186529</td>\n",
       "    </tr>\n",
       "    <tr>\n",
       "      <th>12</th>\n",
       "      <td>27</td>\n",
       "      <td>0</td>\n",
       "      <td>0</td>\n",
       "      <td>0.166805</td>\n",
       "    </tr>\n",
       "    <tr>\n",
       "      <th>13</th>\n",
       "      <td>29</td>\n",
       "      <td>0</td>\n",
       "      <td>0</td>\n",
       "      <td>0.208004</td>\n",
       "    </tr>\n",
       "    <tr>\n",
       "      <th>14</th>\n",
       "      <td>49</td>\n",
       "      <td>1</td>\n",
       "      <td>1</td>\n",
       "      <td>0.798579</td>\n",
       "    </tr>\n",
       "    <tr>\n",
       "      <th>15</th>\n",
       "      <td>55</td>\n",
       "      <td>1</td>\n",
       "      <td>1</td>\n",
       "      <td>0.899508</td>\n",
       "    </tr>\n",
       "    <tr>\n",
       "      <th>16</th>\n",
       "      <td>25</td>\n",
       "      <td>1</td>\n",
       "      <td>0</td>\n",
       "      <td>0.132402</td>\n",
       "    </tr>\n",
       "    <tr>\n",
       "      <th>17</th>\n",
       "      <td>58</td>\n",
       "      <td>1</td>\n",
       "      <td>1</td>\n",
       "      <td>0.930793</td>\n",
       "    </tr>\n",
       "    <tr>\n",
       "      <th>18</th>\n",
       "      <td>19</td>\n",
       "      <td>0</td>\n",
       "      <td>0</td>\n",
       "      <td>0.063315</td>\n",
       "    </tr>\n",
       "    <tr>\n",
       "      <th>19</th>\n",
       "      <td>18</td>\n",
       "      <td>0</td>\n",
       "      <td>0</td>\n",
       "      <td>0.055728</td>\n",
       "    </tr>\n",
       "    <tr>\n",
       "      <th>20</th>\n",
       "      <td>21</td>\n",
       "      <td>0</td>\n",
       "      <td>0</td>\n",
       "      <td>0.081453</td>\n",
       "    </tr>\n",
       "    <tr>\n",
       "      <th>21</th>\n",
       "      <td>26</td>\n",
       "      <td>0</td>\n",
       "      <td>0</td>\n",
       "      <td>0.148785</td>\n",
       "    </tr>\n",
       "    <tr>\n",
       "      <th>22</th>\n",
       "      <td>40</td>\n",
       "      <td>1</td>\n",
       "      <td>1</td>\n",
       "      <td>0.538907</td>\n",
       "    </tr>\n",
       "    <tr>\n",
       "      <th>23</th>\n",
       "      <td>45</td>\n",
       "      <td>1</td>\n",
       "      <td>1</td>\n",
       "      <td>0.697316</td>\n",
       "    </tr>\n",
       "    <tr>\n",
       "      <th>24</th>\n",
       "      <td>50</td>\n",
       "      <td>1</td>\n",
       "      <td>1</td>\n",
       "      <td>0.819529</td>\n",
       "    </tr>\n",
       "    <tr>\n",
       "      <th>25</th>\n",
       "      <td>54</td>\n",
       "      <td>1</td>\n",
       "      <td>1</td>\n",
       "      <td>0.886557</td>\n",
       "    </tr>\n",
       "    <tr>\n",
       "      <th>26</th>\n",
       "      <td>23</td>\n",
       "      <td>0</td>\n",
       "      <td>0</td>\n",
       "      <td>0.104207</td>\n",
       "    </tr>\n",
       "  </tbody>\n",
       "</table>\n",
       "</div>"
      ],
      "text/plain": [
       "    age  buy_insurance  Yp      prob\n",
       "0    22              0   0  0.092201\n",
       "1    25              0   0  0.132402\n",
       "2    47              1   1  0.751382\n",
       "3    52              0   1  0.856264\n",
       "4    46              1   1  0.725174\n",
       "5    56              1   1  0.911128\n",
       "6    55              0   1  0.899508\n",
       "7    60              1   1  0.946363\n",
       "8    62              1   1  0.958585\n",
       "9    61              1   1  0.952849\n",
       "10   18              0   0  0.055728\n",
       "11   28              0   0  0.186529\n",
       "12   27              0   0  0.166805\n",
       "13   29              0   0  0.208004\n",
       "14   49              1   1  0.798579\n",
       "15   55              1   1  0.899508\n",
       "16   25              1   0  0.132402\n",
       "17   58              1   1  0.930793\n",
       "18   19              0   0  0.063315\n",
       "19   18              0   0  0.055728\n",
       "20   21              0   0  0.081453\n",
       "21   26              0   0  0.148785\n",
       "22   40              1   1  0.538907\n",
       "23   45              1   1  0.697316\n",
       "24   50              1   1  0.819529\n",
       "25   54              1   1  0.886557\n",
       "26   23              0   0  0.104207"
      ]
     },
     "execution_count": 16,
     "metadata": {},
     "output_type": "execute_result"
    }
   ],
   "source": [
    "data['Yp']=model.predict(X).apply(lambda p: 0 if p < .5 else 1)\n",
    "data['prob']=model.predict(X)\n",
    "data"
   ]
  },
  {
   "cell_type": "markdown",
   "metadata": {},
   "source": [
    "* **data['Yp']** คือเราต้องการสร้างคอลัมน์เพิ่มอีก 1 อันโดยเราตั้งชื่อว่า Yp(Yที่ได้จากการประมาณการ)ซึ่งข้างในคอลัมเราต้องการที่จะให้แสดงออกมาเป็นตัวเลข 0 และ 1 เราจึงใส่คำสั่ง model.predict(X).apply(lambda p: 0 if p < .5 else 1) ต่อท้าย"
   ]
  },
  {
   "cell_type": "markdown",
   "metadata": {},
   "source": [
    "* **data['prob']** คือเราจะสร้างคอลัมน์เพิ่มอีก 1 อัน โดยอันนี้เราต้องการแสดงให้อยู่ในรูป  probability เราจึงใส่ model.predict(X) ต่อท้าย"
   ]
  },
  {
   "cell_type": "markdown",
   "metadata": {},
   "source": [
    "### พล็อตกราฟ"
   ]
  },
  {
   "cell_type": "markdown",
   "metadata": {},
   "source": [
    "ต่อมาหากเราต้องการพล็อตกราฟเราก็สามารถทำได้  เส้นสมการประมาณการของเราจะวาดขึ้นภายใต้สมการ logistic function ด้านล่างนี้"
   ]
  },
  {
   "cell_type": "markdown",
   "metadata": {},
   "source": [
    "$$g(z)={\\frac {1}{1+e^{-x}}}$$"
   ]
  },
  {
   "cell_type": "code",
   "execution_count": 17,
   "metadata": {},
   "outputs": [],
   "source": [
    "def g_z(intercept, coef, x):\n",
    "    ex = np.exp(-(intercept + x * coef))\n",
    "    return (1 / (1 + ex))"
   ]
  },
  {
   "cell_type": "markdown",
   "metadata": {},
   "source": [
    "* เราสามารถเขียนสมการได้ โดยใช้ คำสั่ง def จากนั้นเราก็ตั้งชื่อสมการเราว่า g_z จากนั้นเราก็บอกว่าเราจะใส่ค่าอะไรลงในสมการบ้างลงใน() ซึ่งตามสมการเราจะใส่ค่า intercept,coef,x ที่เราประมาณการมาได้จากด้านบน\n",
    "* ต่อมาตังชื่อว่า object ว่า ex จากนั้นเรียกใช้ function exponential ของ numpy และเราก็เขียนสมการ -X (intercept +X * coef) ลงในวงเล็บ\n",
    "* จากนั้นให้มันคำนวณและแสดงค่าออกมา(เราก็จะเขียนสมการ g_z ในขั้นตอนนี้)"
   ]
  },
  {
   "cell_type": "code",
   "execution_count": 18,
   "metadata": {},
   "outputs": [
    {
     "data": {
      "text/plain": [
       "<matplotlib.lines.Line2D at 0x1eb23eaa860>"
      ]
     },
     "execution_count": 18,
     "metadata": {},
     "output_type": "execute_result"
    },
    {
     "data": {
      "image/png": "[encoded data removed]",
      "text/plain": [
       "<Figure size 432x288 with 1 Axes>"
      ]
     },
     "metadata": {
      "needs_background": "light"
     },
     "output_type": "display_data"
    }
   ],
   "source": [
    "sns.scatterplot(data=data, x='age', y='buy_insurance') \n",
    "xp =np.linspace(0,80,100) \n",
    "yp=g_z(model.params[0], model.params[1], xp)\n",
    "plt.plot(xp,yp)\n",
    "plt.axhline(.5, color='green', linestyle='--')\n",
    "plt.axvline(np.abs(model.params['Intercept']/model.params['age']), \n",
    "            color='red', linestyle='--')"
   ]
  },
  {
   "cell_type": "markdown",
   "metadata": {},
   "source": [
    "* **sns.scatterplot** เป็นคำสั่งให้แสดงการกระจายตัวของข้อมูลเรา ซึ่งข้างในวงเล็บคือต้องบอกแหล่งที่มา, กำหนดแกน x ,กำหนดแกนy\n",
    "* **สร้าง object ชื่อว่า xp** ข้างในเป็นการกำหนดขนาดของรูป โดยใช้คำสั่ง numpy.linespace(จุดเริ่มต้น,จุดสิ้นสุด,num)\n",
    "* **สร้าง object ชื่อว่า yp** ข้างในเป็นเป็นสมการ logistic regression ที่เราได้เขียนไปด้านบน g_z (ข้างในคือคำสั่งเรียกค่า intercapt,coef,xp)\n",
    "* **plt.plot(xp,yp)** สั่ง plot graph\n",
    "* **plt.axhline** คำสั่งสร้างเส้นตรงขนานแกน x (กำหนดprob=0.5, สีของเส้น , ลักษณะของเส้น )\n",
    "* **plt.axvline** คำสั่งสร้างเส้นตรงขนานแกน y (เส้นได้มาจากการคำนวณทางคณิตศาสตร์ ซึ่งมันจะคำนวณให้ตัดกับทั้ง3 เส้นพอดี และมีการกำหนดสีและลักษณะเส้นเหมือนกัน)"
   ]
  },
  {
   "cell_type": "markdown",
   "metadata": {},
   "source": [
    "## 3.การตรวจสอบความแม่นยำของ model ด้วย confusion matix"
   ]
  },
  {
   "cell_type": "markdown",
   "metadata": {},
   "source": [
    "**confusion matrix** จะแสดงในรูปของ matrix 2* 2 มิติ อ่านเพิ่มเติมได้ที่ https://ilog.ai/logistic-regression/"
   ]
  },
  {
   "cell_type": "markdown",
   "metadata": {},
   "source": [
    "$$\n",
    "\\begin{bmatrix}\n",
    "x_{0,0} & x_{0,1} \\\\\n",
    "x_{1,0} & x_{1,1}\n",
    "\\end{bmatrix}\n",
    "=\n",
    "\\begin{bmatrix}\n",
    "TN&FP \\\\\n",
    "FN&TP\n",
    "\\end{bmatrix}\n",
    "$$"
   ]
  },
  {
   "cell_type": "markdown",
   "metadata": {},
   "source": [
    "* ตารางจะสลับ TN และ TP ซึ่งขึ้นอยู่กับ algorithm ที่เราใช้"
   ]
  },
  {
   "cell_type": "code",
   "execution_count": 19,
   "metadata": {},
   "outputs": [
    {
     "data": {
      "text/html": [
       "<div>\n",
       "<style scoped>\n",
       "    .dataframe tbody tr th:only-of-type {\n",
       "        vertical-align: middle;\n",
       "    }\n",
       "\n",
       "    .dataframe tbody tr th {\n",
       "        vertical-align: top;\n",
       "    }\n",
       "\n",
       "    .dataframe thead th {\n",
       "        text-align: right;\n",
       "    }\n",
       "</style>\n",
       "<table border=\"1\" class=\"dataframe\">\n",
       "  <thead>\n",
       "    <tr style=\"text-align: right;\">\n",
       "      <th></th>\n",
       "      <th>age</th>\n",
       "      <th>buy_insurance</th>\n",
       "      <th>Yp</th>\n",
       "      <th>prob</th>\n",
       "    </tr>\n",
       "  </thead>\n",
       "  <tbody>\n",
       "    <tr>\n",
       "      <th>0</th>\n",
       "      <td>22</td>\n",
       "      <td>0</td>\n",
       "      <td>0</td>\n",
       "      <td>0.092201</td>\n",
       "    </tr>\n",
       "    <tr>\n",
       "      <th>1</th>\n",
       "      <td>25</td>\n",
       "      <td>0</td>\n",
       "      <td>0</td>\n",
       "      <td>0.132402</td>\n",
       "    </tr>\n",
       "    <tr>\n",
       "      <th>2</th>\n",
       "      <td>47</td>\n",
       "      <td>1</td>\n",
       "      <td>1</td>\n",
       "      <td>0.751382</td>\n",
       "    </tr>\n",
       "    <tr>\n",
       "      <th>3</th>\n",
       "      <td>52</td>\n",
       "      <td>0</td>\n",
       "      <td>1</td>\n",
       "      <td>0.856264</td>\n",
       "    </tr>\n",
       "    <tr>\n",
       "      <th>4</th>\n",
       "      <td>46</td>\n",
       "      <td>1</td>\n",
       "      <td>1</td>\n",
       "      <td>0.725174</td>\n",
       "    </tr>\n",
       "    <tr>\n",
       "      <th>5</th>\n",
       "      <td>56</td>\n",
       "      <td>1</td>\n",
       "      <td>1</td>\n",
       "      <td>0.911128</td>\n",
       "    </tr>\n",
       "    <tr>\n",
       "      <th>6</th>\n",
       "      <td>55</td>\n",
       "      <td>0</td>\n",
       "      <td>1</td>\n",
       "      <td>0.899508</td>\n",
       "    </tr>\n",
       "    <tr>\n",
       "      <th>7</th>\n",
       "      <td>60</td>\n",
       "      <td>1</td>\n",
       "      <td>1</td>\n",
       "      <td>0.946363</td>\n",
       "    </tr>\n",
       "    <tr>\n",
       "      <th>8</th>\n",
       "      <td>62</td>\n",
       "      <td>1</td>\n",
       "      <td>1</td>\n",
       "      <td>0.958585</td>\n",
       "    </tr>\n",
       "    <tr>\n",
       "      <th>9</th>\n",
       "      <td>61</td>\n",
       "      <td>1</td>\n",
       "      <td>1</td>\n",
       "      <td>0.952849</td>\n",
       "    </tr>\n",
       "    <tr>\n",
       "      <th>10</th>\n",
       "      <td>18</td>\n",
       "      <td>0</td>\n",
       "      <td>0</td>\n",
       "      <td>0.055728</td>\n",
       "    </tr>\n",
       "    <tr>\n",
       "      <th>11</th>\n",
       "      <td>28</td>\n",
       "      <td>0</td>\n",
       "      <td>0</td>\n",
       "      <td>0.186529</td>\n",
       "    </tr>\n",
       "    <tr>\n",
       "      <th>12</th>\n",
       "      <td>27</td>\n",
       "      <td>0</td>\n",
       "      <td>0</td>\n",
       "      <td>0.166805</td>\n",
       "    </tr>\n",
       "    <tr>\n",
       "      <th>13</th>\n",
       "      <td>29</td>\n",
       "      <td>0</td>\n",
       "      <td>0</td>\n",
       "      <td>0.208004</td>\n",
       "    </tr>\n",
       "    <tr>\n",
       "      <th>14</th>\n",
       "      <td>49</td>\n",
       "      <td>1</td>\n",
       "      <td>1</td>\n",
       "      <td>0.798579</td>\n",
       "    </tr>\n",
       "    <tr>\n",
       "      <th>15</th>\n",
       "      <td>55</td>\n",
       "      <td>1</td>\n",
       "      <td>1</td>\n",
       "      <td>0.899508</td>\n",
       "    </tr>\n",
       "    <tr>\n",
       "      <th>16</th>\n",
       "      <td>25</td>\n",
       "      <td>1</td>\n",
       "      <td>0</td>\n",
       "      <td>0.132402</td>\n",
       "    </tr>\n",
       "    <tr>\n",
       "      <th>17</th>\n",
       "      <td>58</td>\n",
       "      <td>1</td>\n",
       "      <td>1</td>\n",
       "      <td>0.930793</td>\n",
       "    </tr>\n",
       "    <tr>\n",
       "      <th>18</th>\n",
       "      <td>19</td>\n",
       "      <td>0</td>\n",
       "      <td>0</td>\n",
       "      <td>0.063315</td>\n",
       "    </tr>\n",
       "    <tr>\n",
       "      <th>19</th>\n",
       "      <td>18</td>\n",
       "      <td>0</td>\n",
       "      <td>0</td>\n",
       "      <td>0.055728</td>\n",
       "    </tr>\n",
       "    <tr>\n",
       "      <th>20</th>\n",
       "      <td>21</td>\n",
       "      <td>0</td>\n",
       "      <td>0</td>\n",
       "      <td>0.081453</td>\n",
       "    </tr>\n",
       "    <tr>\n",
       "      <th>21</th>\n",
       "      <td>26</td>\n",
       "      <td>0</td>\n",
       "      <td>0</td>\n",
       "      <td>0.148785</td>\n",
       "    </tr>\n",
       "    <tr>\n",
       "      <th>22</th>\n",
       "      <td>40</td>\n",
       "      <td>1</td>\n",
       "      <td>1</td>\n",
       "      <td>0.538907</td>\n",
       "    </tr>\n",
       "    <tr>\n",
       "      <th>23</th>\n",
       "      <td>45</td>\n",
       "      <td>1</td>\n",
       "      <td>1</td>\n",
       "      <td>0.697316</td>\n",
       "    </tr>\n",
       "    <tr>\n",
       "      <th>24</th>\n",
       "      <td>50</td>\n",
       "      <td>1</td>\n",
       "      <td>1</td>\n",
       "      <td>0.819529</td>\n",
       "    </tr>\n",
       "    <tr>\n",
       "      <th>25</th>\n",
       "      <td>54</td>\n",
       "      <td>1</td>\n",
       "      <td>1</td>\n",
       "      <td>0.886557</td>\n",
       "    </tr>\n",
       "    <tr>\n",
       "      <th>26</th>\n",
       "      <td>23</td>\n",
       "      <td>0</td>\n",
       "      <td>0</td>\n",
       "      <td>0.104207</td>\n",
       "    </tr>\n",
       "  </tbody>\n",
       "</table>\n",
       "</div>"
      ],
      "text/plain": [
       "    age  buy_insurance  Yp      prob\n",
       "0    22              0   0  0.092201\n",
       "1    25              0   0  0.132402\n",
       "2    47              1   1  0.751382\n",
       "3    52              0   1  0.856264\n",
       "4    46              1   1  0.725174\n",
       "5    56              1   1  0.911128\n",
       "6    55              0   1  0.899508\n",
       "7    60              1   1  0.946363\n",
       "8    62              1   1  0.958585\n",
       "9    61              1   1  0.952849\n",
       "10   18              0   0  0.055728\n",
       "11   28              0   0  0.186529\n",
       "12   27              0   0  0.166805\n",
       "13   29              0   0  0.208004\n",
       "14   49              1   1  0.798579\n",
       "15   55              1   1  0.899508\n",
       "16   25              1   0  0.132402\n",
       "17   58              1   1  0.930793\n",
       "18   19              0   0  0.063315\n",
       "19   18              0   0  0.055728\n",
       "20   21              0   0  0.081453\n",
       "21   26              0   0  0.148785\n",
       "22   40              1   1  0.538907\n",
       "23   45              1   1  0.697316\n",
       "24   50              1   1  0.819529\n",
       "25   54              1   1  0.886557\n",
       "26   23              0   0  0.104207"
      ]
     },
     "execution_count": 19,
     "metadata": {},
     "output_type": "execute_result"
    }
   ],
   "source": [
    "data"
   ]
  },
  {
   "cell_type": "code",
   "execution_count": 20,
   "metadata": {},
   "outputs": [
    {
     "data": {
      "text/plain": [
       "array([[11.,  2.],\n",
       "       [ 1., 13.]])"
      ]
     },
     "execution_count": 20,
     "metadata": {},
     "output_type": "execute_result"
    }
   ],
   "source": [
    "model.pred_table()"
   ]
  },
  {
   "cell_type": "markdown",
   "metadata": {},
   "source": [
    "* **model.pred_table()** คำสั่งแสดงการประมาณการของเราออกมา ในที่นี้จะได้ว่า\n",
    "    * **TN** เดาถูกว่าเป็น positive class (y=1) ได้ 11 ค่า\n",
    "    * **FP** เดาผิด คือมันเป็น negative (y=0) แต่ไปเดาว่าเป็น positive (y=1) หมายความว่า มันมีคนอายุเยอะ 2 คนที่ไม่ได้ซื้อประกัน\n",
    "    * **FN** เดาผิด คือมันเป็น positive (y=1) แต่ไปเดาว่ามันเป็น negative (y=0) หมายความว่า มีคนที่อายุน้อยซื้อประกัน 1 คน\n",
    "    * **TP** เดาถูกว่าเป็น negative(y=0) ได้ 13 ค่า"
   ]
  },
  {
   "cell_type": "code",
   "execution_count": 21,
   "metadata": {},
   "outputs": [
    {
     "data": {
      "text/plain": [
       "13.0"
      ]
     },
     "execution_count": 21,
     "metadata": {},
     "output_type": "execute_result"
    }
   ],
   "source": [
    "TN, FP, FN, TP = model.pred_table().ravel()\n",
    "TP"
   ]
  },
  {
   "cell_type": "markdown",
   "metadata": {},
   "source": [
    "* สร้าง object ออกมา 4 อัน และใส่คำสั่ง .ravel() เพื่อให้มันแสดงค่าออกมาเป็น 1 มิติ  เพื่อที่เราจะเอาไปเข้าสูตรในการคำนวณหาความแม่นยำต่อไป"
   ]
  },
  {
   "cell_type": "markdown",
   "metadata": {},
   "source": [
    "$$\\mathrm {Accuracy}={\\frac {\\mathrm {TP} +\\mathrm {TN} }{\\mathrm {TP} +\\mathrm {TN} +\\mathrm {FP} +\\mathrm {FN} }}$$"
   ]
  },
  {
   "cell_type": "markdown",
   "metadata": {},
   "source": [
    " **Acurracy** เราเดาถูกมากน้อยแค่ไหน "
   ]
  },
  {
   "cell_type": "code",
   "execution_count": 22,
   "metadata": {},
   "outputs": [
    {
     "data": {
      "text/plain": [
       "0.8888888888888888"
      ]
     },
     "execution_count": 22,
     "metadata": {},
     "output_type": "execute_result"
    }
   ],
   "source": [
    "Acurracy=(TP+TN)/(TP+TN+FP+FN)\n",
    "Acurracy"
   ]
  },
  {
   "cell_type": "markdown",
   "metadata": {},
   "source": [
    " $$\\mathrm {Precision}={\\frac {\\mathrm {TP}  }{\\mathrm {TP} +\\mathrm {FP} }}$$"
   ]
  },
  {
   "cell_type": "markdown",
   "metadata": {},
   "source": [
    "**Precision** เราเดาว่าเป็น positive ได้มากแค่ไหน จากการเดาว่าเป็น positive ทั้งหมด"
   ]
  },
  {
   "cell_type": "code",
   "execution_count": 23,
   "metadata": {},
   "outputs": [
    {
     "data": {
      "text/plain": [
       "0.8666666666666667"
      ]
     },
     "execution_count": 23,
     "metadata": {},
     "output_type": "execute_result"
    }
   ],
   "source": [
    "Precision =(TP)/(TP+FP)\n",
    "Precision"
   ]
  },
  {
   "cell_type": "markdown",
   "metadata": {},
   "source": [
    " $$\\mathrm {Recall}={\\frac {\\mathrm {TP}  }{\\mathrm {TP} +\\mathrm {FN} }}$$"
   ]
  },
  {
   "cell_type": "markdown",
   "metadata": {},
   "source": [
    "**Recall** เราเดาว่าเป็น positive ได้มากแค่ไหน จาก ค่า Yจริงที่เป็น positive ทั้งหมด"
   ]
  },
  {
   "cell_type": "code",
   "execution_count": 24,
   "metadata": {},
   "outputs": [
    {
     "data": {
      "text/plain": [
       "0.9285714285714286"
      ]
     },
     "execution_count": 24,
     "metadata": {},
     "output_type": "execute_result"
    }
   ],
   "source": [
    "Recall = (TP)/(TP+FN)\n",
    "Recall"
   ]
  },
  {
   "cell_type": "markdown",
   "metadata": {},
   "source": [
    "$$\\mathrm {F-measure}={\\frac {\\mathrm {2 * Recall * Precision}  }{\\mathrm {Recall+Precision}  }}$$"
   ]
  },
  {
   "cell_type": "markdown",
   "metadata": {},
   "source": [
    "**F_measure** เป็นการวัดความแม่นยำของข้อมูลทั้งหมด ได้มาจากการเฉลี่ยค่า recall และ precision "
   ]
  },
  {
   "cell_type": "code",
   "execution_count": 25,
   "metadata": {},
   "outputs": [
    {
     "data": {
      "text/plain": [
       "0.896551724137931"
      ]
     },
     "execution_count": 25,
     "metadata": {},
     "output_type": "execute_result"
    }
   ],
   "source": [
    "F_measure = 2 * ( Recall*Precision) / (Recall+Precision)\n",
    "F_measure"
   ]
  }
 ],
 "metadata": {
  "kernelspec": {
   "display_name": "Python 3",
   "language": "python",
   "name": "python3"
  },
  "language_info": {
   "codemirror_mode": {
    "name": "ipython",
    "version": 3
   },
   "file_extension": ".py",
   "mimetype": "text/x-python",
   "name": "python",
   "nbconvert_exporter": "python",
   "pygments_lexer": "ipython3",
   "version": "3.7.3"
  }
 },
 "nbformat": 4,
 "nbformat_minor": 2
}
